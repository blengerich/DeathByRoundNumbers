{
 "cells": [
  {
   "cell_type": "code",
   "execution_count": 1,
   "metadata": {},
   "outputs": [],
   "source": [
    "import pandas as pd\n",
    "import numpy as np\n",
    "\n",
    "from interpret.glassbox import ExplainableBoostingClassifier as ebc\n",
    "from interpret.glassbox import ExplainableBoostingRegressor as ebr\n",
    "from sklearn.model_selection import train_test_split\n",
    "from sklearn.metrics import roc_auc_score as auc\n",
    "from interpret import show\n",
    "import matplotlib.pyplot as plt\n",
    "%matplotlib inline"
   ]
  },
  {
   "cell_type": "code",
   "execution_count": 2,
   "metadata": {},
   "outputs": [],
   "source": [
    "def clip_outliers(df):\n",
    "    for col in df.columns:\n",
    "        try:\n",
    "            df[col] = np.clip(df[col], np.percentile(df[col], 0.1), np.percentile(df[col], 99.9))\n",
    "        except:\n",
    "            pass\n",
    "    return df\n",
    "\n",
    "def fillna_unknown_dtype_col(X):\n",
    "    if X.dtype == np.int or X.dtype == np.int64:\n",
    "        X = X.fillna(value=-1)\n",
    "    elif X.dtype == np.float:\n",
    "        X = X.fillna(value=-1)\n",
    "    elif X.dtype == np.bool:\n",
    "        X = X.fillna(value=False)\n",
    "    elif X.dtype == np.object:\n",
    "        X = X.fillna(value='missing')\n",
    "    else:\n",
    "        print(X.dtype)\n",
    "    return X"
   ]
  },
  {
   "cell_type": "code",
   "execution_count": 3,
   "metadata": {},
   "outputs": [
    {
     "name": "stdout",
     "output_type": "stream",
     "text": [
      "(24508, 17)\n"
     ]
    }
   ],
   "source": [
    "# Load MIMIC-II\n",
    "def load_mimic2():\n",
    "    df = pd.read_csv(\"mimic2/mimic2_rfimputed.csv\")\n",
    "    Y = df['HospitalMortality']\n",
    "    X = df.copy()\n",
    "    X = X.drop(\"HospitalMortality\", axis=1)\n",
    "    print(X.shape)\n",
    "    return X, Y\n",
    "mimic2_X, mimic2_Y = load_mimic2()"
   ]
  },
  {
   "cell_type": "code",
   "execution_count": 4,
   "metadata": {},
   "outputs": [],
   "source": [
    "# Load MIMIC-III as tabular dataset.\n",
    "def load_mimic3():\n",
    "    df = pd.read_csv(\"/Users/blengerich/Dropbox/Professional/Research/Data/MIMIC/MIMIC3_Parsed/MIMIC/tabular/adult_icu\")\n",
    "    X = df\n",
    "    y = df['mort_icu'].values\n",
    "\n",
    "    remove_cols = ['train', 'mort_icu', 'icustay_id', 'hadm_id', 'subject_id', 'adult_icu', 'admType_NEWBORN',\n",
    "                   'sysbp_mean', 'sysbp_min', 'admType_ELECTIVE', 'admType_EMERGENCY', 'admType_URGENT', \n",
    "                   'heartrate_min', 'heartrate_mean',\n",
    "                  'tempc_min', 'tempc_mean', \n",
    "                   'spo2_min', 'spo2_mean', 'spo2_max',\n",
    "                   'glucose_min', 'glucose_max', 'first_hosp_stay', 'first_icu_stay',\n",
    "                  'eth_asian', 'eth_other', 'eth_white', 'eth_black', 'eth_hispanic',\n",
    "                  'resprate_min', 'resprate_mean', 'resprate_max',\n",
    "                   'diasbp_max', 'diasbp_mean',\n",
    "                  'meanbp_min', 'meanbp_mean', 'meanbp_max',\n",
    "                  'hematocrit', 'bilirubin', 'hemoglobin']\n",
    "    feature_names = list([x for x in df.columns.values if x not in remove_cols ])\n",
    "    for col in remove_cols:\n",
    "        del X[col]\n",
    "    return X, y\n",
    "mimic3_X, mimic3_Y = load_mimic3()"
   ]
  },
  {
   "cell_type": "code",
   "execution_count": 5,
   "metadata": {},
   "outputs": [
    {
     "name": "stderr",
     "output_type": "stream",
     "text": [
      "/Users/blengerich/Library/Python/3.7/lib/python/site-packages/ipykernel_launcher.py:4: SettingWithCopyWarning: \n",
      "A value is trying to be set on a copy of a slice from a DataFrame.\n",
      "Try using .loc[row_indexer,col_indexer] = value instead\n",
      "\n",
      "See the caveats in the documentation: https://pandas.pydata.org/pandas-docs/stable/user_guide/indexing.html#returning-a-view-versus-a-copy\n",
      "  after removing the cwd from sys.path.\n",
      "/Users/blengerich/Library/Python/3.7/lib/python/site-packages/ipykernel_launcher.py:10: DeprecationWarning: `np.int` is a deprecated alias for the builtin `int`. To silence this warning, use `int` by itself. Doing this will not modify any behavior and is safe. When replacing `np.int`, you may wish to use e.g. `np.int64` or `np.int32` to specify the precision. If you wish to review your current use, check the release note link for additional information.\n",
      "Deprecated in NumPy 1.20; for more details and guidance: https://numpy.org/devdocs/release/1.20.0-notes.html#deprecations\n",
      "  # Remove the CWD from sys.path while we load stuff.\n",
      "/Users/blengerich/Library/Python/3.7/lib/python/site-packages/ipykernel_launcher.py:12: DeprecationWarning: `np.float` is a deprecated alias for the builtin `float`. To silence this warning, use `float` by itself. Doing this will not modify any behavior and is safe. If you specifically wanted the numpy scalar type, use `np.float64` here.\n",
      "Deprecated in NumPy 1.20; for more details and guidance: https://numpy.org/devdocs/release/1.20.0-notes.html#deprecations\n",
      "  if sys.path[0] == \"\":\n",
      "/Users/blengerich/Library/Python/3.7/lib/python/site-packages/ipykernel_launcher.py:14: DeprecationWarning: `np.bool` is a deprecated alias for the builtin `bool`. To silence this warning, use `bool` by itself. Doing this will not modify any behavior and is safe. If you specifically wanted the numpy scalar type, use `np.bool_` here.\n",
      "Deprecated in NumPy 1.20; for more details and guidance: https://numpy.org/devdocs/release/1.20.0-notes.html#deprecations\n",
      "  \n",
      "/Users/blengerich/Library/Python/3.7/lib/python/site-packages/ipykernel_launcher.py:16: DeprecationWarning: `np.object` is a deprecated alias for the builtin `object`. To silence this warning, use `object` by itself. Doing this will not modify any behavior and is safe. \n",
      "Deprecated in NumPy 1.20; for more details and guidance: https://numpy.org/devdocs/release/1.20.0-notes.html#deprecations\n",
      "  \n"
     ]
    }
   ],
   "source": [
    "# Load MIMIC-IV as tabular dataset.\n",
    "def load_mimic4():\n",
    "    df = pd.read_csv(\"mimic4/mimic4_flat_large.csv\", low_memory=False)\n",
    "    df_cols = df.columns.tolist()\n",
    "    # Match lab values to the ones used in the previous 2 MIMIC datasets.\n",
    "    lab_cols = [\n",
    "        'ART BP Diastolic',\n",
    "        'ART BP Systolic',\n",
    "        'Aortic Pressure Signal - Diastolic',\n",
    "        'Aortic Pressure Signal - Systolic',\n",
    "        'Arterial Blood Pressure diastolic',\n",
    "        'Arterial Blood Pressure systolic',\n",
    "        'Albumin',\n",
    "        'Direct Bilirubin',\n",
    "        'BUN',\n",
    "        'Calcium Chloride',\n",
    "        'Chloride (serum)',\n",
    "        'Creatinine (serum)',\n",
    "        'Cerebral Temperature (C)',\n",
    "        'Glucose (serum)',\n",
    "        'Hematocrit (serum)',\n",
    "        'Hemoglobin',\n",
    "        'Magnesium',\n",
    "        'PTT',\n",
    "        'Platelet Count',\n",
    "        'Potassium (serum)',\n",
    "        'Sodium (serum)',\n",
    "        'Temperature Fahrenheit',\n",
    "        'Temperature Site',\n",
    "        'Skin Temperature',\n",
    "        'RLE Temp',\n",
    "        'RUE Temp',\n",
    "        'Total Bilirubin',\n",
    "        'WBC',]\n",
    "    df.drop('Communication', axis=1, inplace=True)\n",
    "    demo_cols = ['admission_type', 'insurance', 'marital_status', 'ethnicity', 'gender', 'age']\n",
    "    treatment_cols = df_cols[df_cols.index('mortality')+1:df_cols.index('Insulin - Novolog')+1]\n",
    "    treatment_cols = [x for x in treatment_cols if x != 'Communication']\n",
    "    treatment_cols = np.array(treatment_cols)[np.sum(df[treatment_cols], axis=0) > 100]\n",
    "\n",
    "    X_demo = df[demo_cols]\n",
    "    X_treatments = df[treatment_cols]\n",
    "    X_labs = clip_outliers(df[lab_cols])\n",
    "    fill_values = {}\n",
    "    for i in range(X_demo.shape[1]):\n",
    "        if X_demo.values[0, i].__class__ == str:\n",
    "            fill_values[i] = 'Missing'\n",
    "        elif X_demo.values[0, i].__class__ == bool:\n",
    "            fill_values[i] = False\n",
    "        elif X_demo.values[0, i].__class__ == float or X_demo.values[0, i].__class__ == int:\n",
    "            fill_values[i] = -1\n",
    "    for j in range(X_labs.shape[1]):\n",
    "        if X_labs.values[0, j].__class__ == str:\n",
    "            fill_values[i+j] = 'Missing'\n",
    "        elif X_labs.values[0, j].__class__ == bool:\n",
    "            fill_values[i+j] = False\n",
    "        elif X_labs.values[0, j].__class__ == float or X_labs.values[0, j].__class__ == int:\n",
    "            fill_values[i+j] = -1\n",
    "    X = pd.concat([X_demo, X_labs], axis=1).fillna(value=fill_values)\n",
    "    Y = df['mortality']\n",
    "    for feat in X.columns:\n",
    "        X[feat] = fillna_unknown_dtype_col(X[feat])\n",
    "\n",
    "    return X, Y, X_treatments\n",
    "\n",
    "mimic4_X, mimic4_Y, mimic4_treatments = load_mimic4()"
   ]
  },
  {
   "cell_type": "code",
   "execution_count": 25,
   "metadata": {},
   "outputs": [
    {
     "name": "stdout",
     "output_type": "stream",
     "text": [
      "['AIDS', 'AdmissionType', 'Age', 'Bilirubin', 'CO2', 'GCS', 'HR', 'K', 'Lymphoma', 'MetastaticCancer', 'Na', 'PFratio', 'Renal', 'SBP', 'Temperature', 'Urea', 'WBC']\n",
      "['age', 'albumin', 'aniongap', 'bicarbonate', 'bun', 'chloride', 'creatinine', 'diasbp_min', 'glucose', 'glucose_mean', 'heartrate_max', 'inr', 'lactate', 'magnesium', 'phosphate', 'platelet', 'potassium', 'pt', 'ptt', 'sodium', 'sysbp_max', 'tempc_max', 'wbc']\n",
      "['ART BP Diastolic', 'ART BP Systolic', 'Albumin', 'Aortic Pressure Signal - Diastolic', 'Aortic Pressure Signal - Systolic', 'Arterial Blood Pressure diastolic', 'Arterial Blood Pressure systolic', 'BUN', 'Calcium Chloride', 'Cerebral Temperature (C)', 'Chloride (serum)', 'Creatinine (serum)', 'Direct Bilirubin', 'Glucose (serum)', 'Hematocrit (serum)', 'Hemoglobin', 'Magnesium', 'PTT', 'Platelet Count', 'Potassium (serum)', 'RLE Temp', 'RUE Temp', 'Skin Temperature', 'Sodium (serum)', 'Temperature Fahrenheit', 'Temperature Site', 'Total Bilirubin', 'WBC', 'admission_type', 'age', 'ethnicity', 'gender', 'insurance', 'marital_status']\n",
      "{'BUN', 'Age', 'Temp', 'WBC', 'SBP', 'Potassium', 'Sodium'}\n"
     ]
    },
    {
     "name": "stderr",
     "output_type": "stream",
     "text": [
      "/Users/blengerich/Library/Python/3.7/lib/python/site-packages/ipykernel_launcher.py:34: SettingWithCopyWarning: \n",
      "A value is trying to be set on a copy of a slice from a DataFrame.\n",
      "Try using .loc[row_indexer,col_indexer] = value instead\n",
      "\n",
      "See the caveats in the documentation: https://pandas.pydata.org/pandas-docs/stable/user_guide/indexing.html#returning-a-view-versus-a-copy\n",
      "/Users/blengerich/Library/Python/3.7/lib/python/site-packages/ipykernel_launcher.py:40: SettingWithCopyWarning: \n",
      "A value is trying to be set on a copy of a slice from a DataFrame.\n",
      "Try using .loc[row_indexer,col_indexer] = value instead\n",
      "\n",
      "See the caveats in the documentation: https://pandas.pydata.org/pandas-docs/stable/user_guide/indexing.html#returning-a-view-versus-a-copy\n"
     ]
    },
    {
     "data": {
      "image/png": "[encoded data removed]",
      "text/plain": [
       "<Figure size 432x288 with 1 Axes>"
      ]
     },
     "metadata": {
      "needs_background": "light"
     },
     "output_type": "display_data"
    },
    {
     "data": {
      "image/png": "[encoded data removed]",
      "text/plain": [
       "<Figure size 432x288 with 1 Axes>"
      ]
     },
     "metadata": {
      "needs_background": "light"
     },
     "output_type": "display_data"
    },
    {
     "data": {
      "image/png": "[encoded data removed]",
      "text/plain": [
       "<Figure size 432x288 with 1 Axes>"
      ]
     },
     "metadata": {
      "needs_background": "light"
     },
     "output_type": "display_data"
    },
    {
     "data": {
      "image/png": "[encoded data removed]",
      "text/plain": [
       "<Figure size 432x288 with 1 Axes>"
      ]
     },
     "metadata": {
      "needs_background": "light"
     },
     "output_type": "display_data"
    },
    {
     "data": {
      "image/png": "[encoded data removed]",
      "text/plain": [
       "<Figure size 432x288 with 1 Axes>"
      ]
     },
     "metadata": {
      "needs_background": "light"
     },
     "output_type": "display_data"
    },
    {
     "data": {
      "image/png": "[encoded data removed]",
      "text/plain": [
       "<Figure size 432x288 with 1 Axes>"
      ]
     },
     "metadata": {
      "needs_background": "light"
     },
     "output_type": "display_data"
    },
    {
     "data": {
      "image/png": "[encoded data removed]",
      "text/plain": [
       "<Figure size 432x288 with 1 Axes>"
      ]
     },
     "metadata": {
      "needs_background": "light"
     },
     "output_type": "display_data"
    }
   ],
   "source": [
    "# Unify feature names.\n",
    "unified_features = ['Age', 'BUN', 'Albumin', 'Bilirubin', 'Chloride', 'Creatinine',\n",
    "                    'Glucose', 'HeartRate', 'Magnesium', 'Sodium', 'SBP', 'Temp',\n",
    "                    'Platelet', 'Potassium', 'WBC']\n",
    "\n",
    "mimic2_X_sel = mimic2_X[[\"Age\", \"Bilirubin\", \"HR\", \"K\", \"Na\", \"SBP\", \"Temperature\", \"Urea\", \"WBC\"]]\n",
    "mimic2_X_sel.columns = [\"Age\", \"Bilirubin\", \"HeartRate\", \"Potassium\", \"Sodium\", \"SBP\", \"Temp\", \"BUN\", \"WBC\"]\n",
    "\n",
    "mimic3_X_sel = mimic3_X[[\"age\", \"albumin\", \"bun\", \"chloride\", \"creatinine\",\n",
    "                         \"glucose\", \"heartrate_max\", \"magnesium\", \"platelet\", \"potassium\",\n",
    "                         \"sodium\", \"sysbp_max\", \"tempc_max\", \"wbc\"]]\n",
    "mimic3_X_sel.columns = [\"Age\", \"Albumin\", \"BUN\", \"Chloride\", \"Creatinine\",\n",
    "                       \"Glucose\", \"HeartRate\", \"Magnesium\", \"Platelet\", \"Potassium\",\n",
    "                       \"Sodium\", \"SBP\", \"Temp\", \"WBC\"]\n",
    "\n",
    "mimic4_X_sel = mimic4_X[[\"age\", \"Albumin\", \"BUN\", \"Arterial Blood Pressure systolic\",\n",
    "                         \"Chloride (serum)\", \"Creatinine (serum)\", \"Glucose (serum)\", \"Magnesium\", \"Platelet Count\",\n",
    "                        \"Potassium (serum)\", \"Sodium (serum)\", \"Temperature Fahrenheit\", \"Total Bilirubin\", \"WBC\"]]\n",
    "mimic4_X_sel.columns = [\"Age\", \"Albumin\", \"BUN\", \"SBP\",\n",
    "                       \"Chloride\", \"Creatinine\", \"Glucose\", \"Magnesium\", \"Platelet\",\n",
    "                       \"Potassium\", \"Sodium\", \"Temp\", \"Bilirubin\", \"WBC\"]\n",
    "\n",
    "columns_intersection = set(mimic4_X_sel.columns).intersection(\n",
    "    set(mimic3_X_sel.columns)).intersection(set(mimic2_X_sel.columns))\n",
    "\n",
    "def parse_temp_range(x):\n",
    "    parts = x.split(\"-\")\n",
    "    return (float(parts[0].split(\"[\")[1]) + float(parts[1].split(\")\")[0])) / 2\n",
    "mimic2_X_sel[\"Temp\"] = [parse_temp_range(x) for x in mimic2_X_sel[\"Temp\"]]\n",
    "\n",
    "def to_celcius(x):\n",
    "    if x < 0:\n",
    "        return x\n",
    "    return (x-32)*(5./9)\n",
    "mimic4_X_sel[\"Temp\"] = [to_celcius(x) for x in mimic4_X_sel[\"Temp\"]]"
   ]
  },
  {
   "cell_type": "code",
   "execution_count": 26,
   "metadata": {},
   "outputs": [
    {
     "name": "stdout",
     "output_type": "stream",
     "text": [
      "{'Glucose', 'Age', 'HeartRate', 'Magnesium', 'SBP', 'Sodium', 'BUN', 'Temp', 'Bilirubin', 'WBC', 'Platelet', 'Creatinine', 'Potassium', 'Chloride', 'Albumin'}\n"
     ]
    }
   ],
   "source": [
    "columns_union = set(mimic4_X_sel.columns).union(\n",
    "    set(mimic3_X_sel.columns)).union(set(mimic2_X_sel.columns))"
   ]
  },
  {
   "cell_type": "code",
   "execution_count": 11,
   "metadata": {},
   "outputs": [],
   "source": [
    "# Helper function to fit high-resolution additive model.\n",
    "def fit_ebc(X, Y):\n",
    "    X_train, X_test, Y_train, Y_test = train_test_split(X, Y, test_size=0.2)\n",
    "    ebm = ebc(outer_bags=100, interactions=0, max_bins=256, inner_bags=10)\n",
    "    ebm.fit(X_train, Y_train)\n",
    "    print(auc(Y_train, ebm.predict_proba(X_train)[:, 1]))\n",
    "    print(auc(Y_test,  ebm.predict_proba(X_test)[:, 1]))\n",
    "    ebm.fit(X, Y)\n",
    "    ebm_global = ebm.explain_global()\n",
    "    return ebm, ebm_global"
   ]
  },
  {
   "cell_type": "code",
   "execution_count": 12,
   "metadata": {},
   "outputs": [
    {
     "name": "stdout",
     "output_type": "stream",
     "text": [
      "0.7890359899381736\n",
      "0.79223600701904\n",
      "0.7603380692554464\n",
      "0.7563299800190335\n",
      "0.7500151538501053\n",
      "0.7392589438874542\n"
     ]
    }
   ],
   "source": [
    "ebms = {}\n",
    "ebm_globals = {}\n",
    "ebms[\"mimic2\"], ebm_globals[\"mimic2\"] = fit_ebc(mimic2_X_sel, mimic2_Y)\n",
    "ebms[\"mimic3\"], ebm_globals[\"mimic3\"] = fit_ebc(mimic3_X_sel, mimic3_Y)\n",
    "ebms[\"mimic4\"], ebm_globals[\"mimic4\"] = fit_ebc(mimic4_X_sel, mimic4_Y)"
   ]
  },
  {
   "cell_type": "code",
   "execution_count": null,
   "metadata": {},
   "outputs": [],
   "source": [
    "show(ebms['mimic2'].explain_global())"
   ]
  },
  {
   "cell_type": "code",
   "execution_count": null,
   "metadata": {},
   "outputs": [],
   "source": [
    "show(ebms['mimic3'].explain_global())"
   ]
  },
  {
   "cell_type": "code",
   "execution_count": null,
   "metadata": {},
   "outputs": [],
   "source": []
  }
 ],
 "metadata": {
  "kernelspec": {
   "display_name": "Python 3 (ipykernel)",
   "language": "python",
   "name": "python3"
  },
  "language_info": {
   "codemirror_mode": {
    "name": "ipython",
    "version": 3
   },
   "file_extension": ".py",
   "mimetype": "text/x-python",
   "name": "python",
   "nbconvert_exporter": "python",
   "pygments_lexer": "ipython3",
   "version": "3.7.4"
  }
 },
 "nbformat": 4,
 "nbformat_minor": 4
}
